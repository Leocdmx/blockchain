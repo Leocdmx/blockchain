{
 "cells": [
  {
   "cell_type": "code",
   "execution_count": 1,
   "metadata": {},
   "outputs": [
    {
     "name": "stdout",
     "output_type": "stream",
     "text": [
      "Requirement already satisfied: py-algorand-sdk in c:\\users\\león\\appdata\\local\\programs\\python\\python310\\lib\\site-packages (2.8.0)\n",
      "Requirement already satisfied: pynacl<2,>=1.4.0 in c:\\users\\león\\appdata\\local\\programs\\python\\python310\\lib\\site-packages (from py-algorand-sdk) (1.5.0)\n",
      "Requirement already satisfied: pycryptodomex<4,>=3.6.0 in c:\\users\\león\\appdata\\local\\programs\\python\\python310\\lib\\site-packages (from py-algorand-sdk) (3.21.0)\n",
      "Requirement already satisfied: msgpack<2,>=1.0.0 in c:\\users\\león\\appdata\\local\\programs\\python\\python310\\lib\\site-packages (from py-algorand-sdk) (1.1.0)\n",
      "Requirement already satisfied: cffi>=1.4.1 in c:\\users\\león\\appdata\\local\\programs\\python\\python310\\lib\\site-packages (from pynacl<2,>=1.4.0->py-algorand-sdk) (1.17.1)\n",
      "Requirement already satisfied: pycparser in c:\\users\\león\\appdata\\local\\programs\\python\\python310\\lib\\site-packages (from cffi>=1.4.1->pynacl<2,>=1.4.0->py-algorand-sdk) (2.22)\n",
      "Note: you may need to restart the kernel to use updated packages.\n"
     ]
    }
   ],
   "source": [
    "pip install py-algorand-sdk --upgrade"
   ]
  }
 ],
 "metadata": {
  "kernelspec": {
   "display_name": "Python 3",
   "language": "python",
   "name": "python3"
  },
  "language_info": {
   "codemirror_mode": {
    "name": "ipython",
    "version": 3
   },
   "file_extension": ".py",
   "mimetype": "text/x-python",
   "name": "python",
   "nbconvert_exporter": "python",
   "pygments_lexer": "ipython3",
   "version": "3.10.5"
  }
 },
 "nbformat": 4,
 "nbformat_minor": 2
}
